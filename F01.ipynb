{
 "cells": [
  {
   "attachments": {},
   "cell_type": "markdown",
   "metadata": {},
   "source": [
    "Import"
   ]
  },
  {
   "cell_type": "code",
   "execution_count": 1,
   "metadata": {},
   "outputs": [],
   "source": [
    "import Utilities as u"
   ]
  },
  {
   "attachments": {},
   "cell_type": "markdown",
   "metadata": {},
   "source": [
    "F01---LogIn"
   ]
  },
  {
   "cell_type": "code",
   "execution_count": 7,
   "metadata": {},
   "outputs": [
    {
     "ename": "SyntaxError",
     "evalue": "expected ':' (3665475582.py, line 80)",
     "output_type": "error",
     "traceback": [
      "\u001b[1;36m  Cell \u001b[1;32mIn [7], line 80\u001b[1;36m\u001b[0m\n\u001b[1;33m    def hilangkanJin()\u001b[0m\n\u001b[1;37m                      ^\u001b[0m\n\u001b[1;31mSyntaxError\u001b[0m\u001b[1;31m:\u001b[0m expected ':'\n"
     ]
    }
   ],
   "source": [
    "\n",
    "#F01 -- LogIn\n",
    "\n",
    "def logIn(dataUser, loggedIn):\n",
    "\n",
    "    usn = input(\"Masukkan Username: \")\n",
    "    pw = input(\"Masukkan password: \")\n",
    "\n",
    "    i = 0\n",
    "    if loggedIn != [0,0,0]:\n",
    "        while i < u.my_length(dataUser):\n",
    "            if dataUser[i][0] == usn: #ngecek dataUser\n",
    "                if dataUser[i][1] == pw:\n",
    "                    print(\"Selamat datang,\"+usn+ \"!\")\n",
    "                    print(\"Masukkan command “help” untuk daftar command yang dapat kamu panggil.\")\n",
    "                    loggedIn[0] = usn\n",
    "                    loggedIn[1] = dataUser[i][2]\n",
    "\n",
    "                    return loggedIn\n",
    "                else:\n",
    "                    print(\"Password salah!\")\n",
    "                    return loggedIn\n",
    "            else: \n",
    "                i += 1\n",
    "        print(\"Username tidak terdaftar!\")\n",
    "        return loggedIn\n",
    "    else: \n",
    "        print(\"Login gagal!\")\n",
    "        print(\"Anda telah login dengan username Bandung, silahkan lakukan “logout” sebelum melakukan login kembali.\")\n",
    "        \n",
    "#F02 -- LogOut\n",
    "        \n",
    "def logout():\n",
    "    if loggedIn != []:\n",
    "        loggedIn = []\n",
    "    else:\n",
    "        print(\"Logout gagal!\")\n",
    "        print(\"Anda belum login, silahkan login terlebih dahulu sebelum melakukan logout\")\n",
    "\n",
    "#F03 -- SummonJin\n",
    "\n",
    "def summonJin(dataJin):\n",
    "\n",
    "    if u.my_length(dataJin) > 100:\n",
    "        print(\"Jumlah Jin telah maksimal! (100 jin). Bandung tidak dapat men-summon lebih dari itu\")\n",
    "        return\n",
    "    else:\n",
    "        print(\"Jenis jin yang dapat dipanggil: \")\n",
    "        print(\" (1) Pengumpul - Bertugas mengumpulkan bahan bangunan\")\n",
    "        print(\" (2) Pembangun - Bertugas membangun candi\")\n",
    "        while True:\n",
    "            Jenis = input(\"Masukkan nomor jenis jin yang dipanggil: \")\n",
    "\n",
    "            if Jenis == 1:\n",
    "                print(\"Memilih jin “Pengumpul”.\")\n",
    "                Jenis = \"pengumpul\"\n",
    "                break\n",
    "            elif Jenis == 2:\n",
    "                print(\"Memilih jin “Pembangun”.\")\n",
    "                Jenis = \"pembangun\"\n",
    "                break\n",
    "            else: \n",
    "                print(f\"Tidak ada jenis jin bernomor “{Jenis}”!\")\n",
    "    \n",
    "        i = 0\n",
    "        while True:\n",
    "            Jusn = str(input(\"Masukkan username jin: \"))\n",
    "\n",
    "            if u.isAvailable(Jusn,dataJin):\n",
    "\n",
    "                while True:\n",
    "                    Jpw = str(input(\"Masukkan password jin: \"))\n",
    "\n",
    "                    if u.my_length(Jpw) >= 5 and u.my_length(Jpw) <= 25:\n",
    "                        u.attach(dataJin, [Jusn, Jpw, Jenis])\n",
    "\n",
    "                        print(\"Mengumpulkan sesajen...\")\n",
    "                        print(\"Menyerahkan sesajen...\")\n",
    "                        print(\"Membacakan mantra...\")\n",
    "                        print(\"\")\n",
    "                        print(\"Jin Ïfrit berhasil dipanggil!\")\n",
    "                        \n",
    "\n",
    "                        break\n",
    "                    else: \n",
    "                        print(\"Password panjangnya harus 5-25 karakter!\")\n",
    "                break\n",
    "            else:\n",
    "                print(f\"Username “{Jusn}” sudah diambil!\")\n",
    "\n",
    "#F04 -- HilangkanJin\n",
    "\n",
    "def hilangkanJin()\n",
    "\n",
    "\n",
    "                \n",
    "\n",
    "\n",
    "\n",
    "\n",
    "\n",
    "\n"
   ]
  },
  {
   "cell_type": "code",
   "execution_count": null,
   "metadata": {},
   "outputs": [],
   "source": []
  }
 ],
 "metadata": {
  "kernelspec": {
   "display_name": "Python 3",
   "language": "python",
   "name": "python3"
  },
  "language_info": {
   "codemirror_mode": {
    "name": "ipython",
    "version": 3
   },
   "file_extension": ".py",
   "mimetype": "text/x-python",
   "name": "python",
   "nbconvert_exporter": "python",
   "pygments_lexer": "ipython3",
   "version": "3.10.6"
  },
  "orig_nbformat": 4
 },
 "nbformat": 4,
 "nbformat_minor": 2
}
